{
 "cells": [
  {
   "cell_type": "code",
   "execution_count": null,
   "metadata": {},
   "outputs": [],
   "source": [
    "# 創建一個列表\n",
    "fruits = [\"apple\", \"banana\", \"cherry\"]\n",
    "\n",
    "# 訪問列表元素\n",
    "print(fruits[0])  # 輸出: apple\n",
    "\n",
    "# 添加新元素\n",
    "fruits.append(\"orange\")\n",
    "\n",
    "# 刪除元素\n",
    "fruits.remove(\"banana\")\n",
    "\n",
    "# 迭代列表\n",
    "for fruit in fruits:\n",
    "    print(fruit)\n"
   ]
  },
  {
   "cell_type": "code",
   "execution_count": null,
   "metadata": {},
   "outputs": [],
   "source": [
    "# 創建一個字典\n",
    "student = {\"name\": \"Alice\", \"age\": 21, \"courses\": [\"Math\", \"Computer Science\"]}\n",
    "\n",
    "# 訪問字典中的值\n",
    "print(student[\"name\"])  # 輸出: Alice\n",
    "\n",
    "# 添加新鍵值對\n",
    "student[\"grade\"] = \"A\"\n",
    "\n",
    "# 修改現有的值\n",
    "student[\"age\"] = 22\n",
    "\n",
    "# 迭代字典\n",
    "for key, value in student.items():\n",
    "    print(f\"{key}: {value}\")\n"
   ]
  },
  {
   "cell_type": "code",
   "execution_count": null,
   "metadata": {},
   "outputs": [],
   "source": [
    "# 使用 for 循環迭代列表\n",
    "numbers = [1, 2, 3, 4, 5]\n",
    "for num in numbers:\n",
    "    print(num)\n",
    "\n",
    "# 使用 for 循環迭代字典\n",
    "student = {\"name\": \"Alice\", \"age\": 21}\n",
    "for key, value in student.items():\n",
    "    print(f\"{key}: {value}\")\n"
   ]
  },
  {
   "cell_type": "code",
   "execution_count": null,
   "metadata": {},
   "outputs": [],
   "source": [
    "# 使用 while 循環\n",
    "count = 0\n",
    "while count < 5:\n",
    "    print(\"Count:\", count)\n",
    "    count += 1\n"
   ]
  },
  {
   "cell_type": "code",
   "execution_count": null,
   "metadata": {},
   "outputs": [],
   "source": [
    "# 整數\n",
    "x = 10\n",
    "\n",
    "# 浮點數\n",
    "y = 3.14\n",
    "\n",
    "# 字符串\n",
    "name = \"Alice\"\n",
    "\n",
    "# 布尔值\n",
    "is_student = True\n",
    "\n",
    "# 顯示每個變量的類型\n",
    "print(type(x))       # 輸出: <class 'int'>\n",
    "print(type(y))       # 輸出: <class 'float'>\n",
    "print(type(name))    # 輸出: <class 'str'>\n",
    "print(type(is_student))  # 輸出: <class 'bool'>\n"
   ]
  },
  {
   "cell_type": "code",
   "execution_count": null,
   "metadata": {},
   "outputs": [],
   "source": [
    "# 定義一個簡單的函數\n",
    "def greet(name):\n",
    "    return f\"Hello, {name}!\"\n",
    "\n",
    "# 調用函數\n",
    "message = greet(\"Alice\")\n",
    "print(message)  # 輸出: Hello, Alice!\n"
   ]
  },
  {
   "cell_type": "code",
   "execution_count": null,
   "metadata": {},
   "outputs": [],
   "source": [
    "# 定義具有默認參數的函數\n",
    "def greet(name=\"Student\"):\n",
    "    return f\"Hello, {name}!\"\n",
    "\n",
    "print(greet())          # 輸出: Hello, Student!\n",
    "print(greet(\"Alice\"))   # 輸出: Hello, Alice!\n"
   ]
  },
  {
   "cell_type": "code",
   "execution_count": null,
   "metadata": {},
   "outputs": [],
   "source": [
    "x = 10\n",
    "if x > 0:\n",
    "    print(\"x is positive\")\n",
    "elif x < 0:\n",
    "    print(\"x is negative\")\n",
    "else:\n",
    "    print(\"x is zero\")\n"
   ]
  },
  {
   "cell_type": "code",
   "execution_count": null,
   "metadata": {},
   "outputs": [],
   "source": [
    "# 寫入文件\n",
    "with open(\"example.txt\", \"w\") as file:\n",
    "    file.write(\"Hello, Python!\")\n",
    "\n",
    "# 讀取文件\n",
    "with open(\"example.txt\", \"r\") as file:\n",
    "    content = file.read()\n",
    "    print(content)  # 輸出: Hello, Python!\n"
   ]
  },
  {
   "cell_type": "code",
   "execution_count": null,
   "metadata": {},
   "outputs": [],
   "source": [
    "try:\n",
    "    result = 10 / 0\n",
    "except ZeroDivisionError:\n",
    "    print(\"Error: Cannot divide by zero.\")\n",
    "finally:\n",
    "    print(\"This block is executed no matter what.\")\n"
   ]
  },
  {
   "cell_type": "code",
   "execution_count": null,
   "metadata": {},
   "outputs": [],
   "source": [
    "# 定義一個簡單的類\n",
    "class Dog:\n",
    "    def __init__(self, name, age):\n",
    "        self.name = name\n",
    "        self.age = age\n",
    "\n",
    "    def bark(self):\n",
    "        return f\"{self.name} is barking.\"\n",
    "\n",
    "# 創建一個對象\n",
    "my_dog = Dog(\"Buddy\", 3)\n",
    "print(my_dog.bark())  # 輸出: Buddy is barking.\n"
   ]
  }
 ],
 "metadata": {
  "language_info": {
   "name": "python"
  }
 },
 "nbformat": 4,
 "nbformat_minor": 2
}
